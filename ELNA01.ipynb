{
  "nbformat": 4,
  "nbformat_minor": 0,
  "metadata": {
    "colab": {
      "provenance": []
    },
    "kernelspec": {
      "name": "python3",
      "display_name": "Python 3"
    },
    "language_info": {
      "name": "python"
    }
  },
  "cells": [
    {
      "cell_type": "code",
      "execution_count": null,
      "metadata": {
        "id": "Kuv9PNz-pggT"
      },
      "outputs": [],
      "source": []
    },
    {
      "cell_type": "markdown",
      "source": [
        "# Qn 1"
      ],
      "metadata": {
        "id": "KY4bBHmyqnxY"
      }
    },
    {
      "cell_type": "code",
      "source": [
        "import numpy as np"
      ],
      "metadata": {
        "id": "jyb59_cIq0rV"
      },
      "execution_count": 2,
      "outputs": []
    },
    {
      "cell_type": "code",
      "source": [
        "arr1=np.arange(1,11)"
      ],
      "metadata": {
        "id": "6JZlstXkq8ID"
      },
      "execution_count": 3,
      "outputs": []
    },
    {
      "cell_type": "code",
      "source": [
        "arr1"
      ],
      "metadata": {
        "colab": {
          "base_uri": "https://localhost:8080/"
        },
        "id": "NRleGkRxrEij",
        "outputId": "2a4b0793-17ed-40b2-c4ed-1dfd01818a44"
      },
      "execution_count": 4,
      "outputs": [
        {
          "output_type": "execute_result",
          "data": {
            "text/plain": [
              "array([ 1,  2,  3,  4,  5,  6,  7,  8,  9, 10])"
            ]
          },
          "metadata": {},
          "execution_count": 4
        }
      ]
    },
    {
      "cell_type": "markdown",
      "source": [
        "# Qn 2"
      ],
      "metadata": {
        "id": "sYddvbIirHmN"
      }
    },
    {
      "cell_type": "code",
      "source": [
        "arr2=np.zeros((2,3))"
      ],
      "metadata": {
        "id": "SrH_c43SrFsz"
      },
      "execution_count": 6,
      "outputs": []
    },
    {
      "cell_type": "code",
      "source": [
        "arr2"
      ],
      "metadata": {
        "colab": {
          "base_uri": "https://localhost:8080/"
        },
        "id": "n-MtvJdxrTmU",
        "outputId": "d53ee5bc-13cf-48e3-d3dc-d2c407c41b12"
      },
      "execution_count": 7,
      "outputs": [
        {
          "output_type": "execute_result",
          "data": {
            "text/plain": [
              "array([[0., 0., 0.],\n",
              "       [0., 0., 0.]])"
            ]
          },
          "metadata": {},
          "execution_count": 7
        }
      ]
    },
    {
      "cell_type": "markdown",
      "source": [
        "# Qn 3"
      ],
      "metadata": {
        "id": "33MpGLearfo8"
      }
    },
    {
      "cell_type": "code",
      "source": [
        "arr3=np.arange(2,21,2)"
      ],
      "metadata": {
        "id": "1JehOKqfrYrk"
      },
      "execution_count": 8,
      "outputs": []
    },
    {
      "cell_type": "code",
      "source": [
        "arr3"
      ],
      "metadata": {
        "colab": {
          "base_uri": "https://localhost:8080/"
        },
        "id": "EF3z5OQ5rpFU",
        "outputId": "db941269-02c9-4949-cd56-9339be1e3a55"
      },
      "execution_count": 9,
      "outputs": [
        {
          "output_type": "execute_result",
          "data": {
            "text/plain": [
              "array([ 2,  4,  6,  8, 10, 12, 14, 16, 18, 20])"
            ]
          },
          "metadata": {},
          "execution_count": 9
        }
      ]
    },
    {
      "cell_type": "markdown",
      "source": [
        "# Qn 4"
      ],
      "metadata": {
        "id": "NJMjH1KGrsKk"
      }
    },
    {
      "cell_type": "code",
      "source": [
        "arr1=np.array([1,2,3])"
      ],
      "metadata": {
        "id": "mRIb4wuRrqzk"
      },
      "execution_count": 11,
      "outputs": []
    },
    {
      "cell_type": "code",
      "source": [
        "arr2=np.array([4,5,6])"
      ],
      "metadata": {
        "id": "hurMfCEer7nD"
      },
      "execution_count": 12,
      "outputs": []
    },
    {
      "cell_type": "code",
      "source": [
        "arr1+arr2"
      ],
      "metadata": {
        "colab": {
          "base_uri": "https://localhost:8080/"
        },
        "id": "zOcj6GCnsQPz",
        "outputId": "7a5c7565-85bb-446f-c92b-2494e543b00b"
      },
      "execution_count": 13,
      "outputs": [
        {
          "output_type": "execute_result",
          "data": {
            "text/plain": [
              "array([5, 7, 9])"
            ]
          },
          "metadata": {},
          "execution_count": 13
        }
      ]
    },
    {
      "cell_type": "code",
      "source": [
        "arr1-arr2"
      ],
      "metadata": {
        "colab": {
          "base_uri": "https://localhost:8080/"
        },
        "id": "e4hHgTV2sT-3",
        "outputId": "e43162f3-2798-4a64-f948-428f9c03c924"
      },
      "execution_count": 14,
      "outputs": [
        {
          "output_type": "execute_result",
          "data": {
            "text/plain": [
              "array([-3, -3, -3])"
            ]
          },
          "metadata": {},
          "execution_count": 14
        }
      ]
    },
    {
      "cell_type": "code",
      "source": [
        "arr1*arr2"
      ],
      "metadata": {
        "colab": {
          "base_uri": "https://localhost:8080/"
        },
        "id": "E9PcjEvJsWNz",
        "outputId": "1122efe1-feca-4ea4-f8d4-428aeb07f469"
      },
      "execution_count": 15,
      "outputs": [
        {
          "output_type": "execute_result",
          "data": {
            "text/plain": [
              "array([ 4, 10, 18])"
            ]
          },
          "metadata": {},
          "execution_count": 15
        }
      ]
    },
    {
      "cell_type": "code",
      "source": [
        "arr1/arr2"
      ],
      "metadata": {
        "colab": {
          "base_uri": "https://localhost:8080/"
        },
        "id": "YOuTxpK_sZVD",
        "outputId": "f982badd-14ee-4cc3-d3cb-f4d09e84c856"
      },
      "execution_count": 16,
      "outputs": [
        {
          "output_type": "execute_result",
          "data": {
            "text/plain": [
              "array([0.25, 0.4 , 0.5 ])"
            ]
          },
          "metadata": {},
          "execution_count": 16
        }
      ]
    },
    {
      "cell_type": "markdown",
      "source": [
        "# Qn 5\n"
      ],
      "metadata": {
        "id": "EWQFO9kWskDU"
      }
    },
    {
      "cell_type": "code",
      "source": [
        "arr1=np.random.randint(1,101,100)"
      ],
      "metadata": {
        "id": "-8AULqkcsb_k"
      },
      "execution_count": 17,
      "outputs": []
    },
    {
      "cell_type": "code",
      "source": [
        "arr1"
      ],
      "metadata": {
        "colab": {
          "base_uri": "https://localhost:8080/"
        },
        "id": "45RmMuZLswoD",
        "outputId": "311220cb-b862-44e1-ca55-77f2da9cb25e"
      },
      "execution_count": 43,
      "outputs": [
        {
          "output_type": "execute_result",
          "data": {
            "text/plain": [
              "array([  1,   2,   2,   2,   2,   3,   5,   5,   6,   8,   8,   9,  11,\n",
              "        11,  15,  17,  17,  18,  19,  20,  20,  21,  21,  22,  22,  23,\n",
              "        24,  25,  25,  26,  27,  29,  31,  31,  32,  32,  34,  34,  35,\n",
              "        36,  37,  37,  39,  41,  42,  43,  44,  44,  45,  47,  49,  49,\n",
              "        51,  52,  52,  53,  55,  55,  56,  56,  59,  60,  60,  62,  62,\n",
              "        63,  64,  65,  67,  68,  70,  71,  72,  73,  75,  75,  76,  77,\n",
              "        77,  78,  79,  80,  81,  81,  86,  87,  89,  90,  92,  92,  93,\n",
              "        93,  94,  94,  95,  95,  95,  97,  98, 100])"
            ]
          },
          "metadata": {},
          "execution_count": 43
        }
      ]
    },
    {
      "cell_type": "code",
      "source": [
        "mean=arr1.mean()\n",
        "mean"
      ],
      "metadata": {
        "colab": {
          "base_uri": "https://localhost:8080/"
        },
        "id": "u39A37ww2PEY",
        "outputId": "c2181c04-851a-44f8-e3a7-6aa4836ff12b"
      },
      "execution_count": 44,
      "outputs": [
        {
          "output_type": "execute_result",
          "data": {
            "text/plain": [
              "48.63"
            ]
          },
          "metadata": {},
          "execution_count": 44
        }
      ]
    },
    {
      "cell_type": "code",
      "source": [
        "arr1.sort()\n",
        "arr1"
      ],
      "metadata": {
        "colab": {
          "base_uri": "https://localhost:8080/"
        },
        "id": "FjqISQES2XDw",
        "outputId": "5d9de8a8-8ba2-4a05-a001-2340c7f54c1d"
      },
      "execution_count": 45,
      "outputs": [
        {
          "output_type": "execute_result",
          "data": {
            "text/plain": [
              "array([  1,   2,   2,   2,   2,   3,   5,   5,   6,   8,   8,   9,  11,\n",
              "        11,  15,  17,  17,  18,  19,  20,  20,  21,  21,  22,  22,  23,\n",
              "        24,  25,  25,  26,  27,  29,  31,  31,  32,  32,  34,  34,  35,\n",
              "        36,  37,  37,  39,  41,  42,  43,  44,  44,  45,  47,  49,  49,\n",
              "        51,  52,  52,  53,  55,  55,  56,  56,  59,  60,  60,  62,  62,\n",
              "        63,  64,  65,  67,  68,  70,  71,  72,  73,  75,  75,  76,  77,\n",
              "        77,  78,  79,  80,  81,  81,  86,  87,  89,  90,  92,  92,  93,\n",
              "        93,  94,  94,  95,  95,  95,  97,  98, 100])"
            ]
          },
          "metadata": {},
          "execution_count": 45
        }
      ]
    },
    {
      "cell_type": "code",
      "source": [
        "median=(arr1[49]+arr1[50])/2\n",
        "median"
      ],
      "metadata": {
        "colab": {
          "base_uri": "https://localhost:8080/"
        },
        "id": "JiT-PgtF2cgC",
        "outputId": "975821f1-c71a-486e-f140-c58f6ce6824f"
      },
      "execution_count": 46,
      "outputs": [
        {
          "output_type": "execute_result",
          "data": {
            "text/plain": [
              "48.0"
            ]
          },
          "metadata": {},
          "execution_count": 46
        }
      ]
    },
    {
      "cell_type": "code",
      "source": [
        "std_dev=arr1.std()\n",
        "std_dev\n"
      ],
      "metadata": {
        "colab": {
          "base_uri": "https://localhost:8080/"
        },
        "id": "veqntnAu2sXh",
        "outputId": "e39d22e1-1282-4ed0-dff0-9b1542dae265"
      },
      "execution_count": 47,
      "outputs": [
        {
          "output_type": "execute_result",
          "data": {
            "text/plain": [
              "29.520723229622952"
            ]
          },
          "metadata": {},
          "execution_count": 47
        }
      ]
    },
    {
      "cell_type": "markdown",
      "source": [
        "# Qn 6"
      ],
      "metadata": {
        "id": "ffLAaZeps697"
      }
    },
    {
      "cell_type": "code",
      "source": [
        "arr1=np.random.randint(1,101,12)"
      ],
      "metadata": {
        "id": "Uxf-Iya5sxpj"
      },
      "execution_count": 19,
      "outputs": []
    },
    {
      "cell_type": "code",
      "source": [
        "arr1"
      ],
      "metadata": {
        "colab": {
          "base_uri": "https://localhost:8080/"
        },
        "id": "X2QHobSAtELC",
        "outputId": "68a8dee1-730d-414e-a28a-d3fc8e581ffc"
      },
      "execution_count": 20,
      "outputs": [
        {
          "output_type": "execute_result",
          "data": {
            "text/plain": [
              "array([ 3, 26, 90,  1,  6, 46, 45, 24, 69, 37, 48, 80])"
            ]
          },
          "metadata": {},
          "execution_count": 20
        }
      ]
    },
    {
      "cell_type": "code",
      "source": [
        "arr1.reshape(3,4)"
      ],
      "metadata": {
        "colab": {
          "base_uri": "https://localhost:8080/"
        },
        "id": "03uaPZG6tFdC",
        "outputId": "4c05f445-e04d-4be5-de91-b72d16040987"
      },
      "execution_count": 21,
      "outputs": [
        {
          "output_type": "execute_result",
          "data": {
            "text/plain": [
              "array([[ 3, 26, 90,  1],\n",
              "       [ 6, 46, 45, 24],\n",
              "       [69, 37, 48, 80]])"
            ]
          },
          "metadata": {},
          "execution_count": 21
        }
      ]
    },
    {
      "cell_type": "markdown",
      "source": [
        "# Qn 7"
      ],
      "metadata": {
        "id": "ofHRfBl6tQqj"
      }
    },
    {
      "cell_type": "code",
      "source": [
        "arr=np.array([1,2,3,4,5])\n",
        "np.square(arr)"
      ],
      "metadata": {
        "colab": {
          "base_uri": "https://localhost:8080/"
        },
        "id": "_yFF7nlstLSj",
        "outputId": "9588ee60-3f0e-4576-c4ab-c54ad0df540e"
      },
      "execution_count": 22,
      "outputs": [
        {
          "output_type": "execute_result",
          "data": {
            "text/plain": [
              "array([ 1,  4,  9, 16, 25])"
            ]
          },
          "metadata": {},
          "execution_count": 22
        }
      ]
    },
    {
      "cell_type": "markdown",
      "source": [
        "# Qn 8"
      ],
      "metadata": {
        "id": "lh4-D3adtkd7"
      }
    },
    {
      "cell_type": "code",
      "source": [
        "np.eye(5,5)"
      ],
      "metadata": {
        "colab": {
          "base_uri": "https://localhost:8080/"
        },
        "id": "B3Z8yEd3thEC",
        "outputId": "158ca5cb-b259-4475-cf2a-646e231668f7"
      },
      "execution_count": 23,
      "outputs": [
        {
          "output_type": "execute_result",
          "data": {
            "text/plain": [
              "array([[1., 0., 0., 0., 0.],\n",
              "       [0., 1., 0., 0., 0.],\n",
              "       [0., 0., 1., 0., 0.],\n",
              "       [0., 0., 0., 1., 0.],\n",
              "       [0., 0., 0., 0., 1.]])"
            ]
          },
          "metadata": {},
          "execution_count": 23
        }
      ]
    },
    {
      "cell_type": "markdown",
      "source": [
        "# Qn 9"
      ],
      "metadata": {
        "id": "Yz3tN5TUtuKj"
      }
    },
    {
      "cell_type": "code",
      "source": [
        "A=np.array([1,2,3])\n",
        "B=np.array([4,5,6])"
      ],
      "metadata": {
        "id": "wyZw2GNGts0S"
      },
      "execution_count": 24,
      "outputs": []
    },
    {
      "cell_type": "code",
      "source": [
        "A.dot(B)"
      ],
      "metadata": {
        "colab": {
          "base_uri": "https://localhost:8080/"
        },
        "id": "RBTJTdzauAXS",
        "outputId": "ae11732b-763c-4d63-8de7-a695a1e6cc15"
      },
      "execution_count": 25,
      "outputs": [
        {
          "output_type": "execute_result",
          "data": {
            "text/plain": [
              "32"
            ]
          },
          "metadata": {},
          "execution_count": 25
        }
      ]
    },
    {
      "cell_type": "markdown",
      "source": [
        "# Qn 10"
      ],
      "metadata": {
        "id": "9FjTSuFZuFjb"
      }
    },
    {
      "cell_type": "code",
      "source": [
        "arr1=np.random.randint(1,101,10)"
      ],
      "metadata": {
        "id": "cunHaCqsuETS"
      },
      "execution_count": 26,
      "outputs": []
    },
    {
      "cell_type": "code",
      "source": [
        "arr1"
      ],
      "metadata": {
        "colab": {
          "base_uri": "https://localhost:8080/"
        },
        "id": "JbdySDqMu-IS",
        "outputId": "108e3a68-aa7d-422b-d507-e6bdbb3c4cca"
      },
      "execution_count": 27,
      "outputs": [
        {
          "output_type": "execute_result",
          "data": {
            "text/plain": [
              "array([25, 82, 13, 64, 44, 37, 63, 93, 93,  7])"
            ]
          },
          "metadata": {},
          "execution_count": 27
        }
      ]
    },
    {
      "cell_type": "code",
      "source": [
        "arr1.argmax()"
      ],
      "metadata": {
        "colab": {
          "base_uri": "https://localhost:8080/"
        },
        "id": "WwbHMfSTu_FC",
        "outputId": "c4582b9c-83e5-4242-8a41-feb3b99d4634"
      },
      "execution_count": 28,
      "outputs": [
        {
          "output_type": "execute_result",
          "data": {
            "text/plain": [
              "7"
            ]
          },
          "metadata": {},
          "execution_count": 28
        }
      ]
    },
    {
      "cell_type": "code",
      "source": [
        "arr1.argmin()"
      ],
      "metadata": {
        "colab": {
          "base_uri": "https://localhost:8080/"
        },
        "id": "-9dDu0C7vDil",
        "outputId": "5da82b92-4299-4e5d-c959-2827e495f360"
      },
      "execution_count": 29,
      "outputs": [
        {
          "output_type": "execute_result",
          "data": {
            "text/plain": [
              "9"
            ]
          },
          "metadata": {},
          "execution_count": 29
        }
      ]
    },
    {
      "cell_type": "markdown",
      "source": [
        "# Qn 11"
      ],
      "metadata": {
        "id": "xTLsa-OovOSO"
      }
    },
    {
      "cell_type": "code",
      "source": [
        "a=np.zeros((4,4))\n",
        "b=np.ones((4,4))\n",
        "c=np.concatenate((a,b))\n",
        "d=np.concatenate((a,b),axis=1)\n",
        "print('vertical concatenation-\\n',c)\n",
        "print('horizontal concatenation-\\n',c)"
      ],
      "metadata": {
        "colab": {
          "base_uri": "https://localhost:8080/"
        },
        "id": "H7mJ_IeNvJdl",
        "outputId": "66b0d2d9-21e9-49ad-e2f4-405c04254c31"
      },
      "execution_count": 31,
      "outputs": [
        {
          "output_type": "stream",
          "name": "stdout",
          "text": [
            "vertical concatenation-\n",
            " [[0. 0. 0. 0.]\n",
            " [0. 0. 0. 0.]\n",
            " [0. 0. 0. 0.]\n",
            " [0. 0. 0. 0.]\n",
            " [1. 1. 1. 1.]\n",
            " [1. 1. 1. 1.]\n",
            " [1. 1. 1. 1.]\n",
            " [1. 1. 1. 1.]]\n",
            "horizontal concatenation-\n",
            " [[0. 0. 0. 0.]\n",
            " [0. 0. 0. 0.]\n",
            " [0. 0. 0. 0.]\n",
            " [0. 0. 0. 0.]\n",
            " [1. 1. 1. 1.]\n",
            " [1. 1. 1. 1.]\n",
            " [1. 1. 1. 1.]\n",
            " [1. 1. 1. 1.]]\n"
          ]
        }
      ]
    },
    {
      "cell_type": "markdown",
      "source": [
        "# Qn 12"
      ],
      "metadata": {
        "id": "3dDcTr8rwPJj"
      }
    },
    {
      "cell_type": "code",
      "source": [
        "arr=np.arange(1,17).reshape(4,4)\n",
        "print(arr)\n",
        "print('sum of each column is',np.sum(arr,axis=0))\n",
        "print('sum of each row is',np.sum(arr,axis=1))"
      ],
      "metadata": {
        "colab": {
          "base_uri": "https://localhost:8080/"
        },
        "id": "sXEt96wHvlTi",
        "outputId": "12079ac7-524b-404b-e1c3-202cb63d241c"
      },
      "execution_count": 32,
      "outputs": [
        {
          "output_type": "stream",
          "name": "stdout",
          "text": [
            "[[ 1  2  3  4]\n",
            " [ 5  6  7  8]\n",
            " [ 9 10 11 12]\n",
            " [13 14 15 16]]\n",
            "sum of each column is [28 32 36 40]\n",
            "sum of each row is [10 26 42 58]\n"
          ]
        }
      ]
    },
    {
      "cell_type": "markdown",
      "source": [
        "# Qn 13"
      ],
      "metadata": {
        "id": "YQrMoo3Nw63q"
      }
    },
    {
      "cell_type": "code",
      "source": [
        "a=np.array([[6,9],[2,8],[1,5]])\n",
        "b=np.array([[6,4],[5,2],[6,5]])\n",
        "c=np.intersect1d(a,b)\n",
        "print(\"the common elments between a and b are \",c)"
      ],
      "metadata": {
        "colab": {
          "base_uri": "https://localhost:8080/"
        },
        "id": "WyFmjq9Lw3NM",
        "outputId": "cff9c1de-ecdf-4fa8-c43b-4e1fb9a7b313"
      },
      "execution_count": 35,
      "outputs": [
        {
          "output_type": "stream",
          "name": "stdout",
          "text": [
            "the common elments between a and b are  [2 5 6]\n"
          ]
        }
      ]
    },
    {
      "cell_type": "markdown",
      "source": [
        "# Qn 14"
      ],
      "metadata": {
        "id": "IqjWQF_Qx8tj"
      }
    },
    {
      "cell_type": "code",
      "source": [
        "a=np.array([5,-2,3,8,-6,-1])\n",
        "a[a<0]=0\n",
        "a"
      ],
      "metadata": {
        "colab": {
          "base_uri": "https://localhost:8080/"
        },
        "id": "k4fzewJexqph",
        "outputId": "9f89107a-4a38-48bd-b051-11b672630b70"
      },
      "execution_count": 36,
      "outputs": [
        {
          "output_type": "execute_result",
          "data": {
            "text/plain": [
              "array([5, 0, 3, 8, 0, 0])"
            ]
          },
          "metadata": {},
          "execution_count": 36
        }
      ]
    },
    {
      "cell_type": "markdown",
      "source": [
        "# Qn 15"
      ],
      "metadata": {
        "id": "Ny0IdUw2yeB5"
      }
    },
    {
      "cell_type": "code",
      "source": [
        "arr1=np.random.randint(1,101,100)\n",
        "arr1.sort()\n",
        "arr1"
      ],
      "metadata": {
        "colab": {
          "base_uri": "https://localhost:8080/"
        },
        "id": "3BW-mWocycdR",
        "outputId": "8c967832-9d7a-4e47-870d-fbb554b8a86b"
      },
      "execution_count": 37,
      "outputs": [
        {
          "output_type": "execute_result",
          "data": {
            "text/plain": [
              "array([  1,   2,   2,   2,   2,   3,   5,   5,   6,   8,   8,   9,  11,\n",
              "        11,  15,  17,  17,  18,  19,  20,  20,  21,  21,  22,  22,  23,\n",
              "        24,  25,  25,  26,  27,  29,  31,  31,  32,  32,  34,  34,  35,\n",
              "        36,  37,  37,  39,  41,  42,  43,  44,  44,  45,  47,  49,  49,\n",
              "        51,  52,  52,  53,  55,  55,  56,  56,  59,  60,  60,  62,  62,\n",
              "        63,  64,  65,  67,  68,  70,  71,  72,  73,  75,  75,  76,  77,\n",
              "        77,  78,  79,  80,  81,  81,  86,  87,  89,  90,  92,  92,  93,\n",
              "        93,  94,  94,  95,  95,  95,  97,  98, 100])"
            ]
          },
          "metadata": {},
          "execution_count": 37
        }
      ]
    },
    {
      "cell_type": "markdown",
      "source": [
        "# Qn 16"
      ],
      "metadata": {
        "id": "ClevHm6Ny8tJ"
      }
    },
    {
      "cell_type": "code",
      "source": [
        "a=np.array([9,2,4,6,5])\n",
        "b=np.array([2,8,15,1,14])\n",
        "c=np.absolute(a-b)\n",
        "print(\"the element wise absolute difference between the two array is \",c)"
      ],
      "metadata": {
        "colab": {
          "base_uri": "https://localhost:8080/"
        },
        "id": "oImjIPxMyuuB",
        "outputId": "a5abccab-485e-4d46-8de8-ad20738a161e"
      },
      "execution_count": 39,
      "outputs": [
        {
          "output_type": "stream",
          "name": "stdout",
          "text": [
            "the element wise absolute difference between the two array is  [ 7  6 11  5  9]\n"
          ]
        }
      ]
    },
    {
      "cell_type": "markdown",
      "source": [
        "# Qn 17"
      ],
      "metadata": {
        "id": "di0gzOVUzsQ_"
      }
    },
    {
      "cell_type": "code",
      "source": [
        "arr=np.array([[1,2,3],[4,5,6],[7,8,9]])\n",
        "firstrow=arr[0]\n",
        "lastcol=arr[:,[-1]]\n",
        "print(\"first row is\\n\",firstrow)\n",
        "print(\"last column is\\n\",lastcol)\n"
      ],
      "metadata": {
        "colab": {
          "base_uri": "https://localhost:8080/"
        },
        "id": "3EK1-y0zzjVg",
        "outputId": "55f43aa6-5741-4044-ffa1-427b335c0645"
      },
      "execution_count": 41,
      "outputs": [
        {
          "output_type": "stream",
          "name": "stdout",
          "text": [
            "first row is\n",
            " [1 2 3]\n",
            "last column is\n",
            " [[3]\n",
            " [6]\n",
            " [9]]\n"
          ]
        }
      ]
    },
    {
      "cell_type": "markdown",
      "source": [
        "# Qn 18"
      ],
      "metadata": {
        "id": "wk1UF9oe1fbY"
      }
    },
    {
      "cell_type": "code",
      "source": [
        "a=np.array([1,2,3,4,5])\n",
        "x=a[0:len(a)+1]\n",
        "print(x)"
      ],
      "metadata": {
        "colab": {
          "base_uri": "https://localhost:8080/"
        },
        "id": "luJ1Ddug1XdL",
        "outputId": "e099055a-724b-4278-ab20-e0bd9b5d82f1"
      },
      "execution_count": 42,
      "outputs": [
        {
          "output_type": "stream",
          "name": "stdout",
          "text": [
            "[1 2 3 4 5]\n"
          ]
        }
      ]
    },
    {
      "cell_type": "markdown",
      "source": [
        "# Qn 19"
      ],
      "metadata": {
        "id": "h2ecEFdN1zLY"
      }
    },
    {
      "cell_type": "code",
      "source": [
        "arr=np.array([[10,1,14,16,18,20],[22,24,26,28,30,32],[34,36,38,40,42,44],[46,48,50,52,54,56],[58,60,62,64,66,68],[70,72,74,76,78,80]])\n",
        "x=arr[2:4,[2,3]]\n",
        "print('original array is\\n',arr)\n",
        "print('central 2x2 elements include\\n',x)"
      ],
      "metadata": {
        "colab": {
          "base_uri": "https://localhost:8080/"
        },
        "id": "XHjryUba29MX",
        "outputId": "011d3cb4-7afc-4ef8-d75d-4a0e8a6eb2d3"
      },
      "execution_count": 48,
      "outputs": [
        {
          "output_type": "stream",
          "name": "stdout",
          "text": [
            "original array is\n",
            " [[10  1 14 16 18 20]\n",
            " [22 24 26 28 30 32]\n",
            " [34 36 38 40 42 44]\n",
            " [46 48 50 52 54 56]\n",
            " [58 60 62 64 66 68]\n",
            " [70 72 74 76 78 80]]\n",
            "central 2x2 elements include\n",
            " [[38 40]\n",
            " [50 52]]\n"
          ]
        }
      ]
    },
    {
      "cell_type": "markdown",
      "source": [
        "# Qn 20"
      ],
      "metadata": {
        "id": "kY3fgmg-4Pti"
      }
    },
    {
      "cell_type": "code",
      "source": [
        "a=np.array([1,2,3,4,5])\n",
        "x=a[::-1]\n",
        "x"
      ],
      "metadata": {
        "colab": {
          "base_uri": "https://localhost:8080/"
        },
        "id": "GdLwttvi1yTw",
        "outputId": "cae742cb-6077-4c20-837e-edf4f9bb1f81"
      },
      "execution_count": 49,
      "outputs": [
        {
          "output_type": "execute_result",
          "data": {
            "text/plain": [
              "array([5, 4, 3, 2, 1])"
            ]
          },
          "metadata": {},
          "execution_count": 49
        }
      ]
    },
    {
      "cell_type": "code",
      "source": [],
      "metadata": {
        "id": "cpJwYl5_4cMf"
      },
      "execution_count": null,
      "outputs": []
    }
  ]
}