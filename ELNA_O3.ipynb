{
  "nbformat": 4,
  "nbformat_minor": 0,
  "metadata": {
    "colab": {
      "provenance": []
    },
    "kernelspec": {
      "name": "python3",
      "display_name": "Python 3"
    },
    "language_info": {
      "name": "python"
    }
  },
  "cells": [
    {
      "cell_type": "code",
      "execution_count": null,
      "metadata": {
        "colab": {
          "base_uri": "https://localhost:8080/"
        },
        "id": "JdTe96vCXUtZ",
        "outputId": "5f124fd9-4c2a-482f-fcc2-7a120c7fe073"
      },
      "outputs": [
        {
          "output_type": "stream",
          "name": "stdout",
          "text": [
            "enter the l of rectangle2\n",
            "enter the b of rectangle3\n",
            "6\n"
          ]
        }
      ],
      "source": [
        "#input function\n",
        "l=int(input(\"enter the l of rectangle \"))\n",
        "b=int(input(\"enter the b of rectangle \"))\n",
        "a=(l*b)\n",
        "print(a)\n"
      ]
    },
    {
      "cell_type": "code",
      "source": [
        "#input function\n",
        "n1=int(input(\"enter n1 \"))\n",
        "n2=int(input(\"enter n2 \"))\n",
        "s=n1+n2\n",
        "q=n1/n2\n",
        "p=n1*n2\n",
        "d=n1-n2\n",
        "print(s)\n",
        "print(q)"
      ],
      "metadata": {
        "colab": {
          "base_uri": "https://localhost:8080/"
        },
        "id": "V9gLmG1NYk1_",
        "outputId": "bf35693d-7817-4cbf-c6b2-f3f74ba47934"
      },
      "execution_count": null,
      "outputs": [
        {
          "output_type": "stream",
          "name": "stdout",
          "text": [
            "enter n14\n",
            "enter n22\n",
            "6\n",
            "2.0\n"
          ]
        }
      ]
    },
    {
      "cell_type": "code",
      "source": [
        "f=float(input('enter a number'))\n",
        "c=(f-32)*5/9\n",
        "print(c)"
      ],
      "metadata": {
        "colab": {
          "base_uri": "https://localhost:8080/"
        },
        "id": "59gdwHPmZPV7",
        "outputId": "ea95838f-a904-450f-f751-f5fc8bd86c7a"
      },
      "execution_count": null,
      "outputs": [
        {
          "output_type": "stream",
          "name": "stdout",
          "text": [
            "enter a number30\n",
            "-1.1111111111111112\n"
          ]
        }
      ]
    },
    {
      "cell_type": "code",
      "source": [
        "c=float(input('enter a number'))\n",
        "f=(c*9/5)+32\n",
        "print(f)"
      ],
      "metadata": {
        "colab": {
          "base_uri": "https://localhost:8080/"
        },
        "id": "8Jmch__5aD79",
        "outputId": "f8115280-9b2d-4880-b093-8702774eef82"
      },
      "execution_count": null,
      "outputs": [
        {
          "output_type": "stream",
          "name": "stdout",
          "text": [
            "enter a number13\n",
            "55.4\n"
          ]
        }
      ]
    },
    {
      "cell_type": "code",
      "source": [
        "num=int(input(\"enter a number\"))\n",
        "if num>0:\n",
        "  print(\"num is positive\")\n",
        "elif num<0:\n",
        "  print(\"num is negative\")\n",
        "else:\n",
        "  print(\"invalid\")"
      ],
      "metadata": {
        "colab": {
          "base_uri": "https://localhost:8080/"
        },
        "id": "AbPxWrhxaYNM",
        "outputId": "5d1cb5b8-41cc-4c21-ec4f-8eec618a3dba"
      },
      "execution_count": null,
      "outputs": [
        {
          "output_type": "stream",
          "name": "stdout",
          "text": [
            "enter a number4\n",
            "num is positive\n"
          ]
        }
      ]
    },
    {
      "cell_type": "code",
      "source": [
        "y=int(input(\"enter the year\"))\n",
        "if y%4==0:\n",
        "  print(\"it is a leap year\")\n",
        "elif y%4!=0:\n",
        "  print(\"it is not a leap year\")\n"
      ],
      "metadata": {
        "colab": {
          "base_uri": "https://localhost:8080/"
        },
        "id": "OwPQYnYYbrcn",
        "outputId": "a5ad5201-08c9-4e07-8f53-a3246cc013b0"
      },
      "execution_count": null,
      "outputs": [
        {
          "output_type": "stream",
          "name": "stdout",
          "text": [
            "enter the year2004\n",
            "it is a leap year\n"
          ]
        }
      ]
    },
    {
      "cell_type": "code",
      "source": [
        "mark=int(input(\"enter mark\"))\n",
        "if mark>89:\n",
        "  print(\"A\")\n",
        "elif mark>79:\n",
        "  print(\"B\")\n",
        "elif mark>69:\n",
        "  print(\"C\")\n",
        "elif mark>59:\n",
        "  print(\"D\")\n",
        "elif mark<59:\n",
        "  print(\"F\")\n",
        "else:\n",
        "  print(\"invalid\")"
      ],
      "metadata": {
        "colab": {
          "base_uri": "https://localhost:8080/"
        },
        "id": "ycpAkWz-cani",
        "outputId": "4763c7b5-673e-4be0-c4d9-489eabf77fc2"
      },
      "execution_count": null,
      "outputs": [
        {
          "output_type": "stream",
          "name": "stdout",
          "text": [
            "enter mark48\n",
            "F\n"
          ]
        }
      ]
    },
    {
      "cell_type": "code",
      "source": [
        "for num in range (10,0,-1):\n",
        "  print(num)\n"
      ],
      "metadata": {
        "colab": {
          "base_uri": "https://localhost:8080/"
        },
        "id": "pnsLUlzadXeb",
        "outputId": "36b2490a-b897-437d-8c79-46e401d58f8a"
      },
      "execution_count": null,
      "outputs": [
        {
          "output_type": "stream",
          "name": "stdout",
          "text": [
            "10\n",
            "9\n",
            "8\n",
            "7\n",
            "6\n",
            "5\n",
            "4\n",
            "3\n",
            "2\n",
            "1\n"
          ]
        }
      ]
    },
    {
      "cell_type": "code",
      "source": [
        "for i in range(2,22,2):\n",
        "  print(i)"
      ],
      "metadata": {
        "colab": {
          "base_uri": "https://localhost:8080/"
        },
        "id": "1coSPE_Qdu5W",
        "outputId": "418bdfdd-f4db-4fbb-e0aa-c6cf9ae14914"
      },
      "execution_count": null,
      "outputs": [
        {
          "output_type": "stream",
          "name": "stdout",
          "text": [
            "2\n",
            "4\n",
            "6\n",
            "8\n",
            "10\n",
            "12\n",
            "14\n",
            "16\n",
            "18\n",
            "20\n"
          ]
        }
      ]
    },
    {
      "cell_type": "code",
      "source": [
        "n=int(input(\"enter the number\"))\n",
        "for i in range(1,11):\n",
        "  print(n,\"*\",i,\"=\",n*i)"
      ],
      "metadata": {
        "colab": {
          "base_uri": "https://localhost:8080/"
        },
        "id": "JEuvUQTod4RW",
        "outputId": "23e1df46-83c7-419b-caaa-8e73a993de5f"
      },
      "execution_count": null,
      "outputs": [
        {
          "output_type": "stream",
          "name": "stdout",
          "text": [
            "enter the number3\n",
            "3 * 1 = 3\n",
            "3 * 2 = 6\n",
            "3 * 3 = 9\n",
            "3 * 4 = 12\n",
            "3 * 5 = 15\n",
            "3 * 6 = 18\n",
            "3 * 7 = 21\n",
            "3 * 8 = 24\n",
            "3 * 9 = 27\n",
            "3 * 10 = 30\n"
          ]
        }
      ]
    },
    {
      "cell_type": "code",
      "source": [],
      "metadata": {
        "id": "dQKHKi0neWJk"
      },
      "execution_count": null,
      "outputs": []
    }
  ]
}