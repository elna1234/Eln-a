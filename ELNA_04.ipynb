{
  "nbformat": 4,
  "nbformat_minor": 0,
  "metadata": {
    "colab": {
      "provenance": []
    },
    "kernelspec": {
      "name": "python3",
      "display_name": "Python 3"
    },
    "language_info": {
      "name": "python"
    }
  },
  "cells": [
    {
      "cell_type": "markdown",
      "source": [
        "**SUM**"
      ],
      "metadata": {
        "id": "CthoCs0kSldS"
      }
    },
    {
      "cell_type": "code",
      "execution_count": null,
      "metadata": {
        "colab": {
          "base_uri": "https://localhost:8080/"
        },
        "id": "XDTFyQL6i9yd",
        "outputId": "22fde61f-6cfa-4ce9-9f6d-8c1955f3bd59"
      },
      "outputs": [
        {
          "output_type": "stream",
          "name": "stdout",
          "text": [
            "entr first number5\n",
            "enter second number8\n",
            "13\n"
          ]
        }
      ],
      "source": [
        "a=int(input('entr first number'))\n",
        "b=int(input('enter second number'))\n",
        "s=a+b\n",
        "print(s)"
      ]
    },
    {
      "cell_type": "markdown",
      "source": [
        "**PRODUCT**"
      ],
      "metadata": {
        "id": "aiBinM5aSxcH"
      }
    },
    {
      "cell_type": "code",
      "source": [
        "a=int(input('enter first number'))\n",
        "b=int(input('enter second number'))\n",
        "s=a*b\n",
        "print(s)"
      ],
      "metadata": {
        "colab": {
          "base_uri": "https://localhost:8080/"
        },
        "id": "sSaWhQw0jX35",
        "outputId": "ec1af616-9ce9-47a0-dc13-b78c42fabbc6"
      },
      "execution_count": null,
      "outputs": [
        {
          "output_type": "stream",
          "name": "stdout",
          "text": [
            "enter first number6\n",
            "enter second number6\n",
            "36\n"
          ]
        }
      ]
    },
    {
      "cell_type": "markdown",
      "source": [
        "**QUOTIENT**"
      ],
      "metadata": {
        "id": "BmuF_RPIS1lW"
      }
    },
    {
      "cell_type": "code",
      "source": [
        "a=int(input('enter first number'))\n",
        "b=int(input('enter second number'))\n",
        "s=a/b\n",
        "r=a%b\n",
        "print(s)\n",
        "print(r)"
      ],
      "metadata": {
        "colab": {
          "base_uri": "https://localhost:8080/"
        },
        "id": "KkYQ4T8Fj2HY",
        "outputId": "b0ac3be4-f001-430b-da2e-1e0dcd334a0a"
      },
      "execution_count": null,
      "outputs": [
        {
          "output_type": "stream",
          "name": "stdout",
          "text": [
            "enter first number6\n",
            "enter second number7\n",
            "0.8571428571428571\n",
            "6\n"
          ]
        }
      ]
    },
    {
      "cell_type": "markdown",
      "source": [
        "**LENGTH OF A STRING**"
      ],
      "metadata": {
        "id": "00i4nw_ZTBCj"
      }
    },
    {
      "cell_type": "code",
      "source": [
        "a='beautiful'\n",
        "len(a)"
      ],
      "metadata": {
        "colab": {
          "base_uri": "https://localhost:8080/"
        },
        "id": "IHMqtK-7mFRF",
        "outputId": "987abb26-9ecc-47c6-ca79-409f27414fe7"
      },
      "execution_count": null,
      "outputs": [
        {
          "output_type": "execute_result",
          "data": {
            "text/plain": [
              "9"
            ]
          },
          "metadata": {},
          "execution_count": 7
        }
      ]
    },
    {
      "cell_type": "markdown",
      "source": [
        "**NUMBER OF OCCURENCES OF A CHARACTER IN A STRING**"
      ],
      "metadata": {
        "id": "zq2vJ2SFTHGA"
      }
    },
    {
      "cell_type": "code",
      "source": [
        "x=input(\"enter the word \")\n",
        "s=input(\"enter \")\n",
        "print(x.count(s))"
      ],
      "metadata": {
        "id": "GS-S-cEkmagz",
        "colab": {
          "base_uri": "https://localhost:8080/"
        },
        "outputId": "e2fb55a2-c06c-46a4-ebfa-e72cc0a0dd31"
      },
      "execution_count": null,
      "outputs": [
        {
          "output_type": "stream",
          "name": "stdout",
          "text": [
            "enter the word thiruvananthapuram\n",
            "enter a\n",
            "4\n"
          ]
        }
      ]
    },
    {
      "cell_type": "markdown",
      "source": [
        "**TO UPPERCASE**"
      ],
      "metadata": {
        "id": "gMdJGidTUVq-"
      }
    },
    {
      "cell_type": "code",
      "source": [
        "x=\"elephant\"\n",
        "print(x.upper())"
      ],
      "metadata": {
        "colab": {
          "base_uri": "https://localhost:8080/"
        },
        "id": "Zd_yyso0TvPa",
        "outputId": "918945a9-232d-4ada-9c55-5ad16b06d4bf"
      },
      "execution_count": null,
      "outputs": [
        {
          "output_type": "stream",
          "name": "stdout",
          "text": [
            "ELEPHANT\n"
          ]
        }
      ]
    },
    {
      "cell_type": "markdown",
      "source": [
        "**TO LOWER CASE**"
      ],
      "metadata": {
        "id": "vSDMHXHWUuyR"
      }
    },
    {
      "cell_type": "code",
      "source": [
        "x=\"ELEPHANT\"\n",
        "print(x.lower())"
      ],
      "metadata": {
        "colab": {
          "base_uri": "https://localhost:8080/"
        },
        "id": "P4dQv3oVUmx1",
        "outputId": "4d0623f4-a557-4311-bcad-4f366fcd4add"
      },
      "execution_count": null,
      "outputs": [
        {
          "output_type": "stream",
          "name": "stdout",
          "text": [
            "elephant\n"
          ]
        }
      ]
    },
    {
      "cell_type": "code",
      "source": [],
      "metadata": {
        "id": "vqjyqIpeU6Po"
      },
      "execution_count": null,
      "outputs": []
    }
  ]
}